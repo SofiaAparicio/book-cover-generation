{
 "cells": [
  {
   "cell_type": "markdown",
   "metadata": {},
   "source": []
  },
  {
   "cell_type": "code",
   "execution_count": 3,
   "metadata": {},
   "outputs": [],
   "source": [
    "from bs4 import BeautifulSoup\n",
    "import requests\n",
    "import pprint\n",
    "import re\n"
   ]
  },
  {
   "cell_type": "code",
   "execution_count": 61,
   "metadata": {},
   "outputs": [],
   "source": [
    "\n",
    "urls = ['https://www.goodreads.com/book/show/57423632-out-of-love']\n",
    "#scrape elements\n",
    "for url in urls:\n",
    "    response = requests.get(url)\n",
    "    soup = BeautifulSoup(response.content, \"html.parser\")\n",
    "\n",
    "    title, author = soup.find(\"title\").string.split('by')\n",
    "    image_url = soup.find(\"meta\", property=\"og:image\")['content']\n",
    "    isbn13 = soup.find(\"meta\", property=\"books:isbn\")['content']\n",
    "    num_pages = soup.find(\"meta\", property=\"books:page_count\")['content']\n",
    "    avg_rating = soup.find(\"span\", {\"itemprop\": \"ratingValue\"}).string.split(\"\\n\")[1].strip()\n",
    "    num_ratings = soup.find(\"meta\", {\"itemprop\": \"ratingCount\"}).string.split(\"\\n\")[1].strip()\n",
    "    num_reviews = soup.find(\"meta\", {\"itemprop\": \"reviewCount\"}).string.split(\"\\n\")[1].strip()\n",
    "    language = soup.find(\"div\", {\"itemprop\": \"inLanguage\"}).string\n",
    "    genders = [gender.string for gender in soup.find(\"body\").find_all(\"a\", {\"class\": \"actionLinkLite bookPageGenreLink\"})]\n",
    "    #TODO:  [\"url\", \"goodreads_id\", \"publish_date\", \"original_publish_year\", \"series\", \"awards\", \"characters\", \"places\"]"
   ]
  },
  {
   "cell_type": "markdown",
   "metadata": {},
   "source": []
  },
  {
   "cell_type": "code",
   "execution_count": 23,
   "metadata": {},
   "outputs": [
    {
     "data": {
      "text/plain": [
       "'Out of Love '"
      ]
     },
     "execution_count": 23,
     "metadata": {},
     "output_type": "execute_result"
    }
   ],
   "source": []
  },
  {
   "cell_type": "code",
   "execution_count": 60,
   "metadata": {},
   "outputs": [
    {
     "data": {
      "text/plain": [
       "'English'"
      ]
     },
     "execution_count": 60,
     "metadata": {},
     "output_type": "execute_result"
    }
   ],
   "source": [
    "URL_ = \"https://www.goodreads.com/genres/list?page={page}\"\n",
    "\n",
    "genre_list = []\n",
    "for i in range(1, 15):\n",
    "    url = URL_.format(page=i)\n",
    "    html = requests.get(url).content\n",
    "    data = BeautifulSoup(html, 'html.parser')\n",
    "    parent = data.find(\"body\").find_all(\"div\", {\"class\": \"shelfStat\"})\n",
    "    for child in parent:\n",
    "        genre = child.find(\"a\", {\"class\": \"mediumText actionLinkLite\"}).string\n",
    "        nbooks = child.find(\"div\", {\"class\": \"smallText greyText\"}).string\n",
    "        nbooks = int(number_regex.search(nbooks).group().replace(',', ''))\n",
    "\n",
    "        genre_list.append({\n",
    "            'genre': genre,\n",
    "            'nbooks': nbooks\n",
    "        })\n",
    "# TODO: Graficos disto tudo"
   ]
  },
  {
   "cell_type": "code",
   "execution_count": null,
   "metadata": {},
   "outputs": [],
   "source": []
  },
  {
   "cell_type": "code",
   "execution_count": null,
   "metadata": {},
   "outputs": [],
   "source": []
  }
 ],
 "metadata": {
  "interpreter": {
   "hash": "11ddcc0998ca8f1d7cc4523084cdd806762e3eb28ac9231254ef24e939e31994"
  },
  "kernelspec": {
   "display_name": "Python 3.9.11 ('book-cover')",
   "language": "python",
   "name": "python3"
  },
  "language_info": {
   "codemirror_mode": {
    "name": "ipython",
    "version": 3
   },
   "file_extension": ".py",
   "mimetype": "text/x-python",
   "name": "python",
   "nbconvert_exporter": "python",
   "pygments_lexer": "ipython3",
   "version": "3.9.11"
  },
  "orig_nbformat": 4
 },
 "nbformat": 4,
 "nbformat_minor": 2
}
